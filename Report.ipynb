{
 "cells": [
  {
   "cell_type": "code",
   "execution_count": 14,
   "id": "797d8b2e-4d46-4eec-8227-45d7bfedcac3",
   "metadata": {},
   "outputs": [
    {
     "name": "stderr",
     "output_type": "stream",
     "text": [
      "C:\\Users\\olive\\AppData\\Local\\Temp\\ipykernel_8780\\3451866741.py:5: DtypeWarning: Columns (1,10) have mixed types. Specify dtype option on import or set low_memory=False.\n",
      "  dataframe = pd.read_csv('amazon_product_reviews.csv')\n"
     ]
    },
    {
     "data": {
      "text/plain": [
       "<spacytextblob.spacytextblob.SpacyTextBlob at 0x1e0da342c50>"
      ]
     },
     "execution_count": 14,
     "metadata": {},
     "output_type": "execute_result"
    }
   ],
   "source": [
    "# This report outlines the development and evaluation of a sentiment analysis model applied to a dataset of Amazon product reviews.\n",
    "# The primary objective of this project is to classify the sentiment of product reviews as positive, negative, or neutral, using natural language processing (NLP) techniques.\n",
    "\n",
    "import spacy\n",
    "import pandas as pd\n",
    "from spacytextblob.spacytextblob import SpacyTextBlob\n",
    "\n",
    "dataframe = pd.read_csv('amazon_product_reviews.csv')\n",
    "nlp = spacy.load('en_core_web_sm')\n",
    "nlp.add_pipe('spacytextblob')"
   ]
  },
  {
   "cell_type": "code",
   "execution_count": 15,
   "id": "580f0c25-85f6-405b-acad-9f3d149c17a3",
   "metadata": {},
   "outputs": [
    {
     "data": {
      "text/html": [
       "<div>\n",
       "<style scoped>\n",
       "    .dataframe tbody tr th:only-of-type {\n",
       "        vertical-align: middle;\n",
       "    }\n",
       "\n",
       "    .dataframe tbody tr th {\n",
       "        vertical-align: top;\n",
       "    }\n",
       "\n",
       "    .dataframe thead th {\n",
       "        text-align: right;\n",
       "    }\n",
       "</style>\n",
       "<table border=\"1\" class=\"dataframe\">\n",
       "  <thead>\n",
       "    <tr style=\"text-align: right;\">\n",
       "      <th></th>\n",
       "      <th>reviews.id</th>\n",
       "      <th>reviews.numHelpful</th>\n",
       "      <th>reviews.rating</th>\n",
       "      <th>reviews.userCity</th>\n",
       "      <th>reviews.userProvince</th>\n",
       "    </tr>\n",
       "  </thead>\n",
       "  <tbody>\n",
       "    <tr>\n",
       "      <th>count</th>\n",
       "      <td>1.0</td>\n",
       "      <td>34131.000000</td>\n",
       "      <td>34627.000000</td>\n",
       "      <td>0.0</td>\n",
       "      <td>0.0</td>\n",
       "    </tr>\n",
       "    <tr>\n",
       "      <th>mean</th>\n",
       "      <td>111372787.0</td>\n",
       "      <td>0.630248</td>\n",
       "      <td>4.584573</td>\n",
       "      <td>NaN</td>\n",
       "      <td>NaN</td>\n",
       "    </tr>\n",
       "    <tr>\n",
       "      <th>std</th>\n",
       "      <td>NaN</td>\n",
       "      <td>13.215775</td>\n",
       "      <td>0.735653</td>\n",
       "      <td>NaN</td>\n",
       "      <td>NaN</td>\n",
       "    </tr>\n",
       "    <tr>\n",
       "      <th>min</th>\n",
       "      <td>111372787.0</td>\n",
       "      <td>0.000000</td>\n",
       "      <td>1.000000</td>\n",
       "      <td>NaN</td>\n",
       "      <td>NaN</td>\n",
       "    </tr>\n",
       "    <tr>\n",
       "      <th>25%</th>\n",
       "      <td>111372787.0</td>\n",
       "      <td>0.000000</td>\n",
       "      <td>4.000000</td>\n",
       "      <td>NaN</td>\n",
       "      <td>NaN</td>\n",
       "    </tr>\n",
       "    <tr>\n",
       "      <th>50%</th>\n",
       "      <td>111372787.0</td>\n",
       "      <td>0.000000</td>\n",
       "      <td>5.000000</td>\n",
       "      <td>NaN</td>\n",
       "      <td>NaN</td>\n",
       "    </tr>\n",
       "    <tr>\n",
       "      <th>75%</th>\n",
       "      <td>111372787.0</td>\n",
       "      <td>0.000000</td>\n",
       "      <td>5.000000</td>\n",
       "      <td>NaN</td>\n",
       "      <td>NaN</td>\n",
       "    </tr>\n",
       "    <tr>\n",
       "      <th>max</th>\n",
       "      <td>111372787.0</td>\n",
       "      <td>814.000000</td>\n",
       "      <td>5.000000</td>\n",
       "      <td>NaN</td>\n",
       "      <td>NaN</td>\n",
       "    </tr>\n",
       "  </tbody>\n",
       "</table>\n",
       "</div>"
      ],
      "text/plain": [
       "        reviews.id  reviews.numHelpful  reviews.rating  reviews.userCity  \\\n",
       "count          1.0        34131.000000    34627.000000               0.0   \n",
       "mean   111372787.0            0.630248        4.584573               NaN   \n",
       "std            NaN           13.215775        0.735653               NaN   \n",
       "min    111372787.0            0.000000        1.000000               NaN   \n",
       "25%    111372787.0            0.000000        4.000000               NaN   \n",
       "50%    111372787.0            0.000000        5.000000               NaN   \n",
       "75%    111372787.0            0.000000        5.000000               NaN   \n",
       "max    111372787.0          814.000000        5.000000               NaN   \n",
       "\n",
       "       reviews.userProvince  \n",
       "count                   0.0  \n",
       "mean                    NaN  \n",
       "std                     NaN  \n",
       "min                     NaN  \n",
       "25%                     NaN  \n",
       "50%                     NaN  \n",
       "75%                     NaN  \n",
       "max                     NaN  "
      ]
     },
     "execution_count": 15,
     "metadata": {},
     "output_type": "execute_result"
    }
   ],
   "source": [
    "# The dataset, named \"Consumer Reviews of Amazon Products,\" comprises customer reviews of various products sold on Amazon. \n",
    "# Each entry includes the review text, alongside other metadata such as the product ID, user ratings, and review timestamps. \n",
    "# For the purpose of this analysis, we focused exclusively on the reviews.text column, which contains the textual content of each review.\n",
    "\n",
    "dataframe.describe()"
   ]
  },
  {
   "cell_type": "code",
   "execution_count": 16,
   "id": "d5d98ad7-641e-459b-b745-96dd3de1cd64",
   "metadata": {},
   "outputs": [],
   "source": [
    "# The preprocessing steps include:\n",
    "# Removing Missing Values: Reviews with missing text are excluded from the analysis to ensure data quality.\n",
    "# Text Cleaning: Utilizing the spaCy library, we remove punctuation, spaces, and stop words from the review text to focus on the meaningful content. \n",
    "# This step is crucial for reducing noise and improving the accuracy of the sentiment analysis.\n",
    "\n",
    "clean_data = dataframe.dropna(subset=['reviews.text']) # removing all missing values\n",
    "reviews_data = clean_data['reviews.text']\n",
    "\n",
    "def process_review(review): # removing punctuation, spaces and stop words\n",
    "    doc = nlp(review)\n",
    "    token_list =    filtered_tokens = [token.orth_ for token in doc if not token.is_punct and not token.is_space and not token.is_stop]\n",
    "    new_string = \" \".join(token_list) # join the remaining tokens together to create a string\n",
    "    return new_string"
   ]
  },
  {
   "cell_type": "code",
   "execution_count": 17,
   "id": "871cf4ae-3302-4a4b-b7bd-bdd4270ff37d",
   "metadata": {},
   "outputs": [
    {
     "name": "stdout",
     "output_type": "stream",
     "text": [
      "Review : She started using it the same day and reads books every day now.\n",
      "Sentiment: Neutral\n",
      "Review : I bought this for myself as an early Christmas present and I'm in love. The sound quality is awesome and Alexa tells the funniest yet shortest stories in history.\n",
      "Sentiment: Positive\n",
      "Review : I bought it for my son. He loved it. I just don't like he can read my books at Amazon. I should be able create a sub account and limit it.\n",
      "Sentiment: Positive\n",
      "Review : This is a good product for reading and browsing Internet.\n",
      "Sentiment: Positive\n",
      "Review : Love the features and easy to set up and use.... would recommend !!!\n",
      "Sentiment: Positive\n",
      "Review : As d scribed\n",
      "Sentiment: Neutral\n",
      "Review : Got this the another day for my niece and she loves everything it has to offer\n",
      "Sentiment: Neutral\n",
      "Review : I've had every Kindle since they came out and have been impressed by the innovation, design, and overall quality. This one is the exception on all counts. Lightning issues on the bottom of the reader are distracting and I don't see a visible difference from the older models. Evidently, production is of higher value than quality.\n",
      "Sentiment: Positive\n",
      "Review : The Echo is not just functional, but fun. Our kids love to pick music for her to play, she has taught them to play Jeopardy, AND she keeps us organized. :-)\n",
      "Sentiment: Positive\n",
      "Review : The tablet works great so far. The parent features are nice also.\n",
      "Sentiment: Positive\n"
     ]
    }
   ],
   "source": [
    "# The polarity scores range from -1 (very negative) to 1 (very positive), with 0 indicating a neutral sentiment.\n",
    "\n",
    "def review_sentiment(review):\n",
    "    doc = nlp(process_review(review))\n",
    "    polarity = doc._.blob.polarity\n",
    "    if polarity > 0:\n",
    "        return 'Positive'\n",
    "    elif polarity < 0:\n",
    "        return 'Negative'\n",
    "    else:\n",
    "        return 'Neutral'\n",
    "\n",
    "# To evaluate the model's performance, we randomly selected a sample of reviews and analyzed their sentiment.\n",
    "\n",
    "for review in reviews_data.sample(10):\n",
    "    print(f\"Review : {review}\")\n",
    "    print(f\"Sentiment: {review_sentiment(review)}\")"
   ]
  },
  {
   "cell_type": "markdown",
   "id": "22cb287a-7104-40ff-bc53-f996cd161ddb",
   "metadata": {},
   "source": [
    "**Strengths**\n",
    "\n",
    "*Efficiency*: The model efficiently processes and analyzes large volumes of text, making it suitable for extensive datasets.\n",
    "\n",
    "*Simplicity*: The use of spaCy and SpacyTextBlob simplifies the implementation of sentiment analysis, allowing for straightforward integration into NLP pipelines.\n",
    "\n",
    "**Limitations**\n",
    "\n",
    "The model may not accurately capture the sentiment in reviews with complex expressions, sarcasm, or subtle nuances due to the straightforward polarity-based approach.\n",
    "\n",
    "The following sentiment analyses are inaccurate: \n",
    "\n",
    "Review: Got this the another day for my niece and she loves everything it has to offer<br>\n",
    "Sentiment: Neutral<br>\n",
    "Correct sentiment: Positive\n",
    "\n",
    "Review: I've had every Kindle since they came out and have been impressed by the innovation, design, and overall quality. This one is the exception on all counts. Lightning issues on the bottom of the reader are distracting and I don't see a visible difference from the older models. Evidently, production is of higher value than quality.<br>\n",
    "Sentiment: Positive<br>\n",
    "Correct sentiment: Negative\n",
    "\n",
    "Review: She started using it the same day and reads books every day now.<br>\n",
    "Sentiment: Neutral<br>\n",
    "Correct sentiment: Positive"
   ]
  },
  {
   "cell_type": "markdown",
   "id": "49f7931c-a6bd-479b-9e1d-cacb9eba30e8",
   "metadata": {},
   "source": [
    "**Conclusion**\n",
    "The sentiment analysis project demonstrates the potential of using spaCy and SpacyTextBlob for analyzing consumer reviews. While the model shows promising results in identifying basic sentiments, ongoing enhancements are necessary to tackle the complexities of human language and improve accuracy further."
   ]
  },
  {
   "cell_type": "code",
   "execution_count": null,
   "id": "3a3836f8-fa55-4b5c-9304-5875fb5e7b29",
   "metadata": {},
   "outputs": [],
   "source": []
  }
 ],
 "metadata": {
  "kernelspec": {
   "display_name": "Python 3 (ipykernel)",
   "language": "python",
   "name": "python3"
  },
  "language_info": {
   "codemirror_mode": {
    "name": "ipython",
    "version": 3
   },
   "file_extension": ".py",
   "mimetype": "text/x-python",
   "name": "python",
   "nbconvert_exporter": "python",
   "pygments_lexer": "ipython3",
   "version": "3.10.6"
  }
 },
 "nbformat": 4,
 "nbformat_minor": 5
}
